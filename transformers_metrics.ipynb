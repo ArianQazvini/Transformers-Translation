{
 "nbformat": 4,
 "nbformat_minor": 0,
 "metadata": {
  "colab": {
   "provenance": []
  },
  "kernelspec": {
   "name": "python3",
   "language": "python",
   "display_name": "Python 3 (ipykernel)"
  },
  "language_info": {
   "name": "python"
  }
 },
 "cells": [
  {
   "cell_type": "code",
   "execution_count": 18,
   "metadata": {
    "colab": {
     "base_uri": "https://localhost:8080/"
    },
    "id": "5NRY7PS5Tdqp",
    "outputId": "bbf3f4af-daac-4a9c-b8ca-5963dff3f772",
    "ExecuteTime": {
     "end_time": "2023-11-26T23:30:36.780160Z",
     "start_time": "2023-11-26T23:30:32.719386Z"
    }
   },
   "outputs": [
    {
     "name": "stderr",
     "output_type": "stream",
     "text": [
      "Special tokens have been added in the vocabulary, make sure the associated word embeddings are fine-tuned or trained.\n"
     ]
    }
   ],
   "source": [
    "from transformers import T5ForConditionalGeneration, T5Tokenizer\n",
    "\n",
    "model_name = \"t5-small\"\n",
    "model_t5 = T5ForConditionalGeneration.from_pretrained(model_name)\n",
    "tokenizer_t5 = T5Tokenizer.from_pretrained(model_name)\n",
    "\n",
    "def infer_t5(input_text, command=\"translate to french\"):\n",
    "    prompt = f\"{command}: {input_text}\"\n",
    "    input_ids = tokenizer_t5.encode(prompt, return_tensors=\"pt\")\n",
    "    output_ids = model_t5.generate(input_ids, max_new_tokens=1000)\n",
    "    output_text = tokenizer_t5.decode(output_ids[0], skip_special_tokens=True)\n",
    "    return output_text\n"
   ]
  },
  {
   "cell_type": "code",
   "source": [
    "from transformers import MarianMTModel, MarianTokenizer\n",
    "\n",
    "model_name = \"Helsinki-NLP/opus-mt-en-roa\"\n",
    "tokenizer_marian = MarianTokenizer.from_pretrained(model_name)\n",
    "model_marian = MarianMTModel.from_pretrained(model_name)\n",
    "\n",
    "def infer_marian(input_text, command=\"translate to french\"):\n",
    "    src_text = [f\">>fra<<{input_text}\"]\n",
    "    output_ids = model_marian.generate(**tokenizer_marian(src_text, return_tensors=\"pt\", padding=True))\n",
    "    output_text = tokenizer_marian.decode(output_ids[0], skip_special_tokens=True)\n",
    "    return output_text\n"
   ],
   "metadata": {
    "colab": {
     "base_uri": "https://localhost:8080/"
    },
    "id": "tBisen13rJ03",
    "outputId": "24ba9dc5-38b9-416b-a435-ea1675cb169a",
    "ExecuteTime": {
     "end_time": "2023-11-26T23:19:47.704645Z",
     "start_time": "2023-11-26T23:19:43.624629Z"
    }
   },
   "execution_count": 6,
   "outputs": []
  },
  {
   "cell_type": "code",
   "source": [
    "from transformers import MBartForConditionalGeneration, MBart50TokenizerFast\n",
    "\n",
    "model_name = 'facebook/mbart-large-50-many-to-many-mmt'\n",
    "model_mbart = MBartForConditionalGeneration.from_pretrained(model_name)\n",
    "tokenizer_mbart = MBart50TokenizerFast.from_pretrained(model_name)\n",
    "\n",
    "def infer_mbart(input_text, command=\"translate to french\"):\n",
    "    tokenizer_mbart.src_lang = \"en_XX\"\n",
    "    encoded_hi = tokenizer_mbart(input_text, return_tensors=\"pt\")\n",
    "    generated_tokens = model_mbart.generate(\n",
    "        **encoded_hi,\n",
    "        forced_bos_token_id=tokenizer_mbart.lang_code_to_id[\"fr_XX\"]\n",
    "    )\n",
    "    return tokenizer_mbart.batch_decode(generated_tokens, skip_special_tokens=True)[0]"
   ],
   "metadata": {
    "colab": {
     "base_uri": "https://localhost:8080/"
    },
    "id": "PSkcGMQt62RI",
    "outputId": "803c9138-0caf-4b0d-ea33-98b527d93e1a",
    "ExecuteTime": {
     "end_time": "2023-11-26T23:21:05.994163Z",
     "start_time": "2023-11-26T23:19:47.693177Z"
    }
   },
   "execution_count": 7,
   "outputs": []
  },
  {
   "cell_type": "code",
   "source": [
    "import requests \n",
    "import pandas as pd\n",
    "\n",
    "dataset = [] \n",
    "for index in range(0, 1000, 100):\n",
    "    url = f\"https://datasets-server.huggingface.co/rows?dataset=giga_fren&config=en-fr&split=train&offset={index}&length=100\"\n",
    "    response = requests.get(url)\n",
    "    data = response.json()\n",
    "    for row in data[\"rows\"]:\n",
    "        x = row[\"row\"][\"translation\"][\"en\"]\n",
    "        y = row[\"row\"][\"translation\"][\"fr\"]\n",
    "        dataset.append((x, y))\n",
    "    print(f\"Downloaded {index + 100} rows\")\n",
    "df = pd.DataFrame(dataset, columns=[\"input_text\", \"target_text\"])\n",
    "df.head()\n",
    "df.to_csv(\"giga_fren.csv\", index=False)"
   ],
   "metadata": {
    "id": "tQx7W_Heh4me",
    "ExecuteTime": {
     "end_time": "2023-11-26T23:17:57.647332Z",
     "start_time": "2023-11-26T23:17:28.123400Z"
    }
   },
   "execution_count": 3,
   "outputs": [
    {
     "name": "stdout",
     "output_type": "stream",
     "text": [
      "Downloaded 100 rows\n",
      "Downloaded 200 rows\n",
      "Downloaded 300 rows\n",
      "Downloaded 400 rows\n",
      "Downloaded 500 rows\n",
      "Downloaded 600 rows\n",
      "Downloaded 700 rows\n",
      "Downloaded 800 rows\n",
      "Downloaded 900 rows\n",
      "Downloaded 1000 rows\n"
     ]
    }
   ]
  },
  {
   "cell_type": "code",
   "execution_count": 37,
   "outputs": [
    {
     "name": "stdout",
     "output_type": "stream",
     "text": [
      "Translated 0 rows for t5\n",
      "Translated 100 rows for t5\n",
      "Translated 200 rows for t5\n",
      "Translated 300 rows for t5\n",
      "Translated 400 rows for t5\n",
      "Translated 500 rows for t5\n",
      "Translated 600 rows for t5\n",
      "Translated 700 rows for t5\n",
      "Translated 800 rows for t5\n",
      "Translated 900 rows for t5\n"
     ]
    },
    {
     "data": {
      "text/plain": "                                          input_text  \\\n0  Changing Lives _BAR_ Changing Society _BAR_ Ho...   \n1                                           Site map   \n2                                           Feedback   \n3                                            Credits   \n4                                           Français   \n\n                                         target_text  \\\n0  Il a transformé notre vie _BAR_ Il a transform...   \n1                                       Plan du site   \n2                                        Rétroaction   \n3                                            Crédits   \n4                                            English   \n\n                                                  t5  \n0  Changing Lives _BAR_ Changing Society _BAR_ Ho...  \n1                                       Plan du site  \n2                                       Commentaires  \n3                                            Crédits  \n4                                           Français  ",
      "text/html": "<div>\n<style scoped>\n    .dataframe tbody tr th:only-of-type {\n        vertical-align: middle;\n    }\n\n    .dataframe tbody tr th {\n        vertical-align: top;\n    }\n\n    .dataframe thead th {\n        text-align: right;\n    }\n</style>\n<table border=\"1\" class=\"dataframe\">\n  <thead>\n    <tr style=\"text-align: right;\">\n      <th></th>\n      <th>input_text</th>\n      <th>target_text</th>\n      <th>t5</th>\n    </tr>\n  </thead>\n  <tbody>\n    <tr>\n      <th>0</th>\n      <td>Changing Lives _BAR_ Changing Society _BAR_ Ho...</td>\n      <td>Il a transformé notre vie _BAR_ Il a transform...</td>\n      <td>Changing Lives _BAR_ Changing Society _BAR_ Ho...</td>\n    </tr>\n    <tr>\n      <th>1</th>\n      <td>Site map</td>\n      <td>Plan du site</td>\n      <td>Plan du site</td>\n    </tr>\n    <tr>\n      <th>2</th>\n      <td>Feedback</td>\n      <td>Rétroaction</td>\n      <td>Commentaires</td>\n    </tr>\n    <tr>\n      <th>3</th>\n      <td>Credits</td>\n      <td>Crédits</td>\n      <td>Crédits</td>\n    </tr>\n    <tr>\n      <th>4</th>\n      <td>Français</td>\n      <td>English</td>\n      <td>Français</td>\n    </tr>\n  </tbody>\n</table>\n</div>"
     },
     "execution_count": 37,
     "metadata": {},
     "output_type": "execute_result"
    }
   ],
   "source": [
    "df = pd.read_csv(\"giga_fren.csv\")\n",
    "\n",
    "for index, row in df.iterrows():\n",
    "    df.loc[index, \"t5\"] = infer_t5(row[\"input_text\"])\n",
    "    if index % 100 == 0:\n",
    "        print(f\"Translated {index} rows for t5\")      \n",
    "\n",
    "df.head()"
   ],
   "metadata": {
    "collapsed": false,
    "ExecuteTime": {
     "end_time": "2023-11-26T23:50:05.453960Z",
     "start_time": "2023-11-26T23:45:15.511367Z"
    }
   }
  },
  {
   "cell_type": "code",
   "execution_count": 38,
   "outputs": [
    {
     "name": "stdout",
     "output_type": "stream",
     "text": [
      "Translated 0 rows for marian\n",
      "Translated 100 rows for marian\n",
      "Translated 200 rows for marian\n",
      "Translated 300 rows for marian\n",
      "Translated 400 rows for marian\n",
      "Translated 500 rows for marian\n",
      "Translated 600 rows for marian\n",
      "Translated 700 rows for marian\n",
      "Translated 800 rows for marian\n",
      "Translated 900 rows for marian\n"
     ]
    },
    {
     "data": {
      "text/plain": "                                          input_text  \\\n0  Changing Lives _BAR_ Changing Society _BAR_ Ho...   \n1                                           Site map   \n2                                           Feedback   \n3                                            Credits   \n4                                           Français   \n\n                                         target_text  \\\n0  Il a transformé notre vie _BAR_ Il a transform...   \n1                                       Plan du site   \n2                                        Rétroaction   \n3                                            Crédits   \n4                                            English   \n\n                                                  t5  \\\n0  Changing Lives _BAR_ Changing Society _BAR_ Ho...   \n1                                       Plan du site   \n2                                       Commentaires   \n3                                            Crédits   \n4                                           Français   \n\n                                              marian  \n0  Changement de vie _BAR_ Changement de société ...  \n1                                      Carte du site  \n2                                       Rétroactions  \n3                                            Crédits  \n4                                            English  ",
      "text/html": "<div>\n<style scoped>\n    .dataframe tbody tr th:only-of-type {\n        vertical-align: middle;\n    }\n\n    .dataframe tbody tr th {\n        vertical-align: top;\n    }\n\n    .dataframe thead th {\n        text-align: right;\n    }\n</style>\n<table border=\"1\" class=\"dataframe\">\n  <thead>\n    <tr style=\"text-align: right;\">\n      <th></th>\n      <th>input_text</th>\n      <th>target_text</th>\n      <th>t5</th>\n      <th>marian</th>\n    </tr>\n  </thead>\n  <tbody>\n    <tr>\n      <th>0</th>\n      <td>Changing Lives _BAR_ Changing Society _BAR_ Ho...</td>\n      <td>Il a transformé notre vie _BAR_ Il a transform...</td>\n      <td>Changing Lives _BAR_ Changing Society _BAR_ Ho...</td>\n      <td>Changement de vie _BAR_ Changement de société ...</td>\n    </tr>\n    <tr>\n      <th>1</th>\n      <td>Site map</td>\n      <td>Plan du site</td>\n      <td>Plan du site</td>\n      <td>Carte du site</td>\n    </tr>\n    <tr>\n      <th>2</th>\n      <td>Feedback</td>\n      <td>Rétroaction</td>\n      <td>Commentaires</td>\n      <td>Rétroactions</td>\n    </tr>\n    <tr>\n      <th>3</th>\n      <td>Credits</td>\n      <td>Crédits</td>\n      <td>Crédits</td>\n      <td>Crédits</td>\n    </tr>\n    <tr>\n      <th>4</th>\n      <td>Français</td>\n      <td>English</td>\n      <td>Français</td>\n      <td>English</td>\n    </tr>\n  </tbody>\n</table>\n</div>"
     },
     "execution_count": 38,
     "metadata": {},
     "output_type": "execute_result"
    }
   ],
   "source": [
    "for index, row in df.iterrows():\n",
    "    df.loc[index, \"marian\"] = infer_marian(row[\"input_text\"])\n",
    "    if index % 100 == 0:\n",
    "        print(f\"Translated {index} rows for marian\")\n",
    "\n",
    "df.head()"
   ],
   "metadata": {
    "collapsed": false,
    "ExecuteTime": {
     "end_time": "2023-11-27T00:06:11.541151Z",
     "start_time": "2023-11-26T23:51:50.872164Z"
    }
   }
  },
  {
   "cell_type": "code",
   "execution_count": 39,
   "outputs": [
    {
     "name": "stdout",
     "output_type": "stream",
     "text": [
      "Translated 0 rows for mbart\n"
     ]
    },
    {
     "ename": "KeyboardInterrupt",
     "evalue": "",
     "output_type": "error",
     "traceback": [
      "\u001B[0;31m---------------------------------------------------------------------------\u001B[0m",
      "\u001B[0;31mKeyboardInterrupt\u001B[0m                         Traceback (most recent call last)",
      "Cell \u001B[0;32mIn[39], line 2\u001B[0m\n\u001B[1;32m      1\u001B[0m \u001B[38;5;28;01mfor\u001B[39;00m index, row \u001B[38;5;129;01min\u001B[39;00m df\u001B[38;5;241m.\u001B[39miterrows():\n\u001B[0;32m----> 2\u001B[0m     df\u001B[38;5;241m.\u001B[39mloc[index, \u001B[38;5;124m\"\u001B[39m\u001B[38;5;124mmbart\u001B[39m\u001B[38;5;124m\"\u001B[39m] \u001B[38;5;241m=\u001B[39m \u001B[43minfer_mbart\u001B[49m\u001B[43m(\u001B[49m\u001B[43mrow\u001B[49m\u001B[43m[\u001B[49m\u001B[38;5;124;43m\"\u001B[39;49m\u001B[38;5;124;43minput_text\u001B[39;49m\u001B[38;5;124;43m\"\u001B[39;49m\u001B[43m]\u001B[49m\u001B[43m)\u001B[49m\n\u001B[1;32m      3\u001B[0m     \u001B[38;5;28;01mif\u001B[39;00m index \u001B[38;5;241m%\u001B[39m \u001B[38;5;241m100\u001B[39m \u001B[38;5;241m==\u001B[39m \u001B[38;5;241m0\u001B[39m:\n\u001B[1;32m      4\u001B[0m         \u001B[38;5;28mprint\u001B[39m(\u001B[38;5;124mf\u001B[39m\u001B[38;5;124m\"\u001B[39m\u001B[38;5;124mTranslated \u001B[39m\u001B[38;5;132;01m{\u001B[39;00mindex\u001B[38;5;132;01m}\u001B[39;00m\u001B[38;5;124m rows for mbart\u001B[39m\u001B[38;5;124m\"\u001B[39m)\n",
      "Cell \u001B[0;32mIn[7], line 10\u001B[0m, in \u001B[0;36minfer_mbart\u001B[0;34m(input_text, command)\u001B[0m\n\u001B[1;32m      8\u001B[0m tokenizer_mbart\u001B[38;5;241m.\u001B[39msrc_lang \u001B[38;5;241m=\u001B[39m \u001B[38;5;124m\"\u001B[39m\u001B[38;5;124men_XX\u001B[39m\u001B[38;5;124m\"\u001B[39m\n\u001B[1;32m      9\u001B[0m encoded_hi \u001B[38;5;241m=\u001B[39m tokenizer_mbart(input_text, return_tensors\u001B[38;5;241m=\u001B[39m\u001B[38;5;124m\"\u001B[39m\u001B[38;5;124mpt\u001B[39m\u001B[38;5;124m\"\u001B[39m)\n\u001B[0;32m---> 10\u001B[0m generated_tokens \u001B[38;5;241m=\u001B[39m \u001B[43mmodel_mbart\u001B[49m\u001B[38;5;241;43m.\u001B[39;49m\u001B[43mgenerate\u001B[49m\u001B[43m(\u001B[49m\n\u001B[1;32m     11\u001B[0m \u001B[43m    \u001B[49m\u001B[38;5;241;43m*\u001B[39;49m\u001B[38;5;241;43m*\u001B[39;49m\u001B[43mencoded_hi\u001B[49m\u001B[43m,\u001B[49m\n\u001B[1;32m     12\u001B[0m \u001B[43m    \u001B[49m\u001B[43mforced_bos_token_id\u001B[49m\u001B[38;5;241;43m=\u001B[39;49m\u001B[43mtokenizer_mbart\u001B[49m\u001B[38;5;241;43m.\u001B[39;49m\u001B[43mlang_code_to_id\u001B[49m\u001B[43m[\u001B[49m\u001B[38;5;124;43m\"\u001B[39;49m\u001B[38;5;124;43mfr_XX\u001B[39;49m\u001B[38;5;124;43m\"\u001B[39;49m\u001B[43m]\u001B[49m\n\u001B[1;32m     13\u001B[0m \u001B[43m\u001B[49m\u001B[43m)\u001B[49m\n\u001B[1;32m     14\u001B[0m \u001B[38;5;28;01mreturn\u001B[39;00m tokenizer_mbart\u001B[38;5;241m.\u001B[39mbatch_decode(generated_tokens, skip_special_tokens\u001B[38;5;241m=\u001B[39m\u001B[38;5;28;01mTrue\u001B[39;00m)[\u001B[38;5;241m0\u001B[39m]\n",
      "File \u001B[0;32m~/PycharmProjects/Transformers_translation_evaluation/venv/lib/python3.10/site-packages/torch/utils/_contextlib.py:115\u001B[0m, in \u001B[0;36mcontext_decorator.<locals>.decorate_context\u001B[0;34m(*args, **kwargs)\u001B[0m\n\u001B[1;32m    112\u001B[0m \u001B[38;5;129m@functools\u001B[39m\u001B[38;5;241m.\u001B[39mwraps(func)\n\u001B[1;32m    113\u001B[0m \u001B[38;5;28;01mdef\u001B[39;00m \u001B[38;5;21mdecorate_context\u001B[39m(\u001B[38;5;241m*\u001B[39margs, \u001B[38;5;241m*\u001B[39m\u001B[38;5;241m*\u001B[39mkwargs):\n\u001B[1;32m    114\u001B[0m     \u001B[38;5;28;01mwith\u001B[39;00m ctx_factory():\n\u001B[0;32m--> 115\u001B[0m         \u001B[38;5;28;01mreturn\u001B[39;00m \u001B[43mfunc\u001B[49m\u001B[43m(\u001B[49m\u001B[38;5;241;43m*\u001B[39;49m\u001B[43margs\u001B[49m\u001B[43m,\u001B[49m\u001B[43m \u001B[49m\u001B[38;5;241;43m*\u001B[39;49m\u001B[38;5;241;43m*\u001B[39;49m\u001B[43mkwargs\u001B[49m\u001B[43m)\u001B[49m\n",
      "File \u001B[0;32m~/PycharmProjects/Transformers_translation_evaluation/venv/lib/python3.10/site-packages/transformers/generation/utils.py:1752\u001B[0m, in \u001B[0;36mGenerationMixin.generate\u001B[0;34m(self, inputs, generation_config, logits_processor, stopping_criteria, prefix_allowed_tokens_fn, synced_gpus, assistant_model, streamer, negative_prompt_ids, negative_prompt_attention_mask, **kwargs)\u001B[0m\n\u001B[1;32m   1745\u001B[0m     input_ids, model_kwargs \u001B[38;5;241m=\u001B[39m \u001B[38;5;28mself\u001B[39m\u001B[38;5;241m.\u001B[39m_expand_inputs_for_generation(\n\u001B[1;32m   1746\u001B[0m         input_ids\u001B[38;5;241m=\u001B[39minput_ids,\n\u001B[1;32m   1747\u001B[0m         expand_size\u001B[38;5;241m=\u001B[39mgeneration_config\u001B[38;5;241m.\u001B[39mnum_beams,\n\u001B[1;32m   1748\u001B[0m         is_encoder_decoder\u001B[38;5;241m=\u001B[39m\u001B[38;5;28mself\u001B[39m\u001B[38;5;241m.\u001B[39mconfig\u001B[38;5;241m.\u001B[39mis_encoder_decoder,\n\u001B[1;32m   1749\u001B[0m         \u001B[38;5;241m*\u001B[39m\u001B[38;5;241m*\u001B[39mmodel_kwargs,\n\u001B[1;32m   1750\u001B[0m     )\n\u001B[1;32m   1751\u001B[0m     \u001B[38;5;66;03m# 13. run beam search\u001B[39;00m\n\u001B[0;32m-> 1752\u001B[0m     \u001B[38;5;28;01mreturn\u001B[39;00m \u001B[38;5;28;43mself\u001B[39;49m\u001B[38;5;241;43m.\u001B[39;49m\u001B[43mbeam_search\u001B[49m\u001B[43m(\u001B[49m\n\u001B[1;32m   1753\u001B[0m \u001B[43m        \u001B[49m\u001B[43minput_ids\u001B[49m\u001B[43m,\u001B[49m\n\u001B[1;32m   1754\u001B[0m \u001B[43m        \u001B[49m\u001B[43mbeam_scorer\u001B[49m\u001B[43m,\u001B[49m\n\u001B[1;32m   1755\u001B[0m \u001B[43m        \u001B[49m\u001B[43mlogits_processor\u001B[49m\u001B[38;5;241;43m=\u001B[39;49m\u001B[43mlogits_processor\u001B[49m\u001B[43m,\u001B[49m\n\u001B[1;32m   1756\u001B[0m \u001B[43m        \u001B[49m\u001B[43mstopping_criteria\u001B[49m\u001B[38;5;241;43m=\u001B[39;49m\u001B[43mstopping_criteria\u001B[49m\u001B[43m,\u001B[49m\n\u001B[1;32m   1757\u001B[0m \u001B[43m        \u001B[49m\u001B[43mpad_token_id\u001B[49m\u001B[38;5;241;43m=\u001B[39;49m\u001B[43mgeneration_config\u001B[49m\u001B[38;5;241;43m.\u001B[39;49m\u001B[43mpad_token_id\u001B[49m\u001B[43m,\u001B[49m\n\u001B[1;32m   1758\u001B[0m \u001B[43m        \u001B[49m\u001B[43meos_token_id\u001B[49m\u001B[38;5;241;43m=\u001B[39;49m\u001B[43mgeneration_config\u001B[49m\u001B[38;5;241;43m.\u001B[39;49m\u001B[43meos_token_id\u001B[49m\u001B[43m,\u001B[49m\n\u001B[1;32m   1759\u001B[0m \u001B[43m        \u001B[49m\u001B[43moutput_scores\u001B[49m\u001B[38;5;241;43m=\u001B[39;49m\u001B[43mgeneration_config\u001B[49m\u001B[38;5;241;43m.\u001B[39;49m\u001B[43moutput_scores\u001B[49m\u001B[43m,\u001B[49m\n\u001B[1;32m   1760\u001B[0m \u001B[43m        \u001B[49m\u001B[43mreturn_dict_in_generate\u001B[49m\u001B[38;5;241;43m=\u001B[39;49m\u001B[43mgeneration_config\u001B[49m\u001B[38;5;241;43m.\u001B[39;49m\u001B[43mreturn_dict_in_generate\u001B[49m\u001B[43m,\u001B[49m\n\u001B[1;32m   1761\u001B[0m \u001B[43m        \u001B[49m\u001B[43msynced_gpus\u001B[49m\u001B[38;5;241;43m=\u001B[39;49m\u001B[43msynced_gpus\u001B[49m\u001B[43m,\u001B[49m\n\u001B[1;32m   1762\u001B[0m \u001B[43m        \u001B[49m\u001B[38;5;241;43m*\u001B[39;49m\u001B[38;5;241;43m*\u001B[39;49m\u001B[43mmodel_kwargs\u001B[49m\u001B[43m,\u001B[49m\n\u001B[1;32m   1763\u001B[0m \u001B[43m    \u001B[49m\u001B[43m)\u001B[49m\n\u001B[1;32m   1765\u001B[0m \u001B[38;5;28;01melif\u001B[39;00m generation_mode \u001B[38;5;241m==\u001B[39m GenerationMode\u001B[38;5;241m.\u001B[39mBEAM_SAMPLE:\n\u001B[1;32m   1766\u001B[0m     \u001B[38;5;66;03m# 11. prepare logits warper\u001B[39;00m\n\u001B[1;32m   1767\u001B[0m     logits_warper \u001B[38;5;241m=\u001B[39m \u001B[38;5;28mself\u001B[39m\u001B[38;5;241m.\u001B[39m_get_logits_warper(generation_config)\n",
      "File \u001B[0;32m~/PycharmProjects/Transformers_translation_evaluation/venv/lib/python3.10/site-packages/transformers/generation/utils.py:3091\u001B[0m, in \u001B[0;36mGenerationMixin.beam_search\u001B[0;34m(self, input_ids, beam_scorer, logits_processor, stopping_criteria, max_length, pad_token_id, eos_token_id, output_attentions, output_hidden_states, output_scores, return_dict_in_generate, synced_gpus, **model_kwargs)\u001B[0m\n\u001B[1;32m   3087\u001B[0m         \u001B[38;5;28;01mbreak\u001B[39;00m\n\u001B[1;32m   3089\u001B[0m model_inputs \u001B[38;5;241m=\u001B[39m \u001B[38;5;28mself\u001B[39m\u001B[38;5;241m.\u001B[39mprepare_inputs_for_generation(input_ids, \u001B[38;5;241m*\u001B[39m\u001B[38;5;241m*\u001B[39mmodel_kwargs)\n\u001B[0;32m-> 3091\u001B[0m outputs \u001B[38;5;241m=\u001B[39m \u001B[38;5;28;43mself\u001B[39;49m\u001B[43m(\u001B[49m\n\u001B[1;32m   3092\u001B[0m \u001B[43m    \u001B[49m\u001B[38;5;241;43m*\u001B[39;49m\u001B[38;5;241;43m*\u001B[39;49m\u001B[43mmodel_inputs\u001B[49m\u001B[43m,\u001B[49m\n\u001B[1;32m   3093\u001B[0m \u001B[43m    \u001B[49m\u001B[43mreturn_dict\u001B[49m\u001B[38;5;241;43m=\u001B[39;49m\u001B[38;5;28;43;01mTrue\u001B[39;49;00m\u001B[43m,\u001B[49m\n\u001B[1;32m   3094\u001B[0m \u001B[43m    \u001B[49m\u001B[43moutput_attentions\u001B[49m\u001B[38;5;241;43m=\u001B[39;49m\u001B[43moutput_attentions\u001B[49m\u001B[43m,\u001B[49m\n\u001B[1;32m   3095\u001B[0m \u001B[43m    \u001B[49m\u001B[43moutput_hidden_states\u001B[49m\u001B[38;5;241;43m=\u001B[39;49m\u001B[43moutput_hidden_states\u001B[49m\u001B[43m,\u001B[49m\n\u001B[1;32m   3096\u001B[0m \u001B[43m\u001B[49m\u001B[43m)\u001B[49m\n\u001B[1;32m   3098\u001B[0m \u001B[38;5;28;01mif\u001B[39;00m synced_gpus \u001B[38;5;129;01mand\u001B[39;00m this_peer_finished:\n\u001B[1;32m   3099\u001B[0m     cur_len \u001B[38;5;241m=\u001B[39m cur_len \u001B[38;5;241m+\u001B[39m \u001B[38;5;241m1\u001B[39m\n",
      "File \u001B[0;32m~/PycharmProjects/Transformers_translation_evaluation/venv/lib/python3.10/site-packages/torch/nn/modules/module.py:1518\u001B[0m, in \u001B[0;36mModule._wrapped_call_impl\u001B[0;34m(self, *args, **kwargs)\u001B[0m\n\u001B[1;32m   1516\u001B[0m     \u001B[38;5;28;01mreturn\u001B[39;00m \u001B[38;5;28mself\u001B[39m\u001B[38;5;241m.\u001B[39m_compiled_call_impl(\u001B[38;5;241m*\u001B[39margs, \u001B[38;5;241m*\u001B[39m\u001B[38;5;241m*\u001B[39mkwargs)  \u001B[38;5;66;03m# type: ignore[misc]\u001B[39;00m\n\u001B[1;32m   1517\u001B[0m \u001B[38;5;28;01melse\u001B[39;00m:\n\u001B[0;32m-> 1518\u001B[0m     \u001B[38;5;28;01mreturn\u001B[39;00m \u001B[38;5;28;43mself\u001B[39;49m\u001B[38;5;241;43m.\u001B[39;49m\u001B[43m_call_impl\u001B[49m\u001B[43m(\u001B[49m\u001B[38;5;241;43m*\u001B[39;49m\u001B[43margs\u001B[49m\u001B[43m,\u001B[49m\u001B[43m \u001B[49m\u001B[38;5;241;43m*\u001B[39;49m\u001B[38;5;241;43m*\u001B[39;49m\u001B[43mkwargs\u001B[49m\u001B[43m)\u001B[49m\n",
      "File \u001B[0;32m~/PycharmProjects/Transformers_translation_evaluation/venv/lib/python3.10/site-packages/torch/nn/modules/module.py:1527\u001B[0m, in \u001B[0;36mModule._call_impl\u001B[0;34m(self, *args, **kwargs)\u001B[0m\n\u001B[1;32m   1522\u001B[0m \u001B[38;5;66;03m# If we don't have any hooks, we want to skip the rest of the logic in\u001B[39;00m\n\u001B[1;32m   1523\u001B[0m \u001B[38;5;66;03m# this function, and just call forward.\u001B[39;00m\n\u001B[1;32m   1524\u001B[0m \u001B[38;5;28;01mif\u001B[39;00m \u001B[38;5;129;01mnot\u001B[39;00m (\u001B[38;5;28mself\u001B[39m\u001B[38;5;241m.\u001B[39m_backward_hooks \u001B[38;5;129;01mor\u001B[39;00m \u001B[38;5;28mself\u001B[39m\u001B[38;5;241m.\u001B[39m_backward_pre_hooks \u001B[38;5;129;01mor\u001B[39;00m \u001B[38;5;28mself\u001B[39m\u001B[38;5;241m.\u001B[39m_forward_hooks \u001B[38;5;129;01mor\u001B[39;00m \u001B[38;5;28mself\u001B[39m\u001B[38;5;241m.\u001B[39m_forward_pre_hooks\n\u001B[1;32m   1525\u001B[0m         \u001B[38;5;129;01mor\u001B[39;00m _global_backward_pre_hooks \u001B[38;5;129;01mor\u001B[39;00m _global_backward_hooks\n\u001B[1;32m   1526\u001B[0m         \u001B[38;5;129;01mor\u001B[39;00m _global_forward_hooks \u001B[38;5;129;01mor\u001B[39;00m _global_forward_pre_hooks):\n\u001B[0;32m-> 1527\u001B[0m     \u001B[38;5;28;01mreturn\u001B[39;00m \u001B[43mforward_call\u001B[49m\u001B[43m(\u001B[49m\u001B[38;5;241;43m*\u001B[39;49m\u001B[43margs\u001B[49m\u001B[43m,\u001B[49m\u001B[43m \u001B[49m\u001B[38;5;241;43m*\u001B[39;49m\u001B[38;5;241;43m*\u001B[39;49m\u001B[43mkwargs\u001B[49m\u001B[43m)\u001B[49m\n\u001B[1;32m   1529\u001B[0m \u001B[38;5;28;01mtry\u001B[39;00m:\n\u001B[1;32m   1530\u001B[0m     result \u001B[38;5;241m=\u001B[39m \u001B[38;5;28;01mNone\u001B[39;00m\n",
      "File \u001B[0;32m~/PycharmProjects/Transformers_translation_evaluation/venv/lib/python3.10/site-packages/transformers/models/mbart/modeling_mbart.py:1562\u001B[0m, in \u001B[0;36mMBartForConditionalGeneration.forward\u001B[0;34m(self, input_ids, attention_mask, decoder_input_ids, decoder_attention_mask, head_mask, decoder_head_mask, cross_attn_head_mask, encoder_outputs, past_key_values, inputs_embeds, decoder_inputs_embeds, labels, use_cache, output_attentions, output_hidden_states, return_dict)\u001B[0m\n\u001B[1;32m   1543\u001B[0m         decoder_input_ids \u001B[38;5;241m=\u001B[39m shift_tokens_right(labels, \u001B[38;5;28mself\u001B[39m\u001B[38;5;241m.\u001B[39mconfig\u001B[38;5;241m.\u001B[39mpad_token_id)\n\u001B[1;32m   1545\u001B[0m outputs \u001B[38;5;241m=\u001B[39m \u001B[38;5;28mself\u001B[39m\u001B[38;5;241m.\u001B[39mmodel(\n\u001B[1;32m   1546\u001B[0m     input_ids,\n\u001B[1;32m   1547\u001B[0m     attention_mask\u001B[38;5;241m=\u001B[39mattention_mask,\n\u001B[0;32m   (...)\u001B[0m\n\u001B[1;32m   1560\u001B[0m     return_dict\u001B[38;5;241m=\u001B[39mreturn_dict,\n\u001B[1;32m   1561\u001B[0m )\n\u001B[0;32m-> 1562\u001B[0m lm_logits \u001B[38;5;241m=\u001B[39m \u001B[38;5;28;43mself\u001B[39;49m\u001B[38;5;241;43m.\u001B[39;49m\u001B[43mlm_head\u001B[49m\u001B[43m(\u001B[49m\u001B[43moutputs\u001B[49m\u001B[43m[\u001B[49m\u001B[38;5;241;43m0\u001B[39;49m\u001B[43m]\u001B[49m\u001B[43m)\u001B[49m \u001B[38;5;241m+\u001B[39m \u001B[38;5;28mself\u001B[39m\u001B[38;5;241m.\u001B[39mfinal_logits_bias\n\u001B[1;32m   1564\u001B[0m masked_lm_loss \u001B[38;5;241m=\u001B[39m \u001B[38;5;28;01mNone\u001B[39;00m\n\u001B[1;32m   1565\u001B[0m \u001B[38;5;28;01mif\u001B[39;00m labels \u001B[38;5;129;01mis\u001B[39;00m \u001B[38;5;129;01mnot\u001B[39;00m \u001B[38;5;28;01mNone\u001B[39;00m:\n",
      "File \u001B[0;32m~/PycharmProjects/Transformers_translation_evaluation/venv/lib/python3.10/site-packages/torch/nn/modules/module.py:1518\u001B[0m, in \u001B[0;36mModule._wrapped_call_impl\u001B[0;34m(self, *args, **kwargs)\u001B[0m\n\u001B[1;32m   1516\u001B[0m     \u001B[38;5;28;01mreturn\u001B[39;00m \u001B[38;5;28mself\u001B[39m\u001B[38;5;241m.\u001B[39m_compiled_call_impl(\u001B[38;5;241m*\u001B[39margs, \u001B[38;5;241m*\u001B[39m\u001B[38;5;241m*\u001B[39mkwargs)  \u001B[38;5;66;03m# type: ignore[misc]\u001B[39;00m\n\u001B[1;32m   1517\u001B[0m \u001B[38;5;28;01melse\u001B[39;00m:\n\u001B[0;32m-> 1518\u001B[0m     \u001B[38;5;28;01mreturn\u001B[39;00m \u001B[38;5;28;43mself\u001B[39;49m\u001B[38;5;241;43m.\u001B[39;49m\u001B[43m_call_impl\u001B[49m\u001B[43m(\u001B[49m\u001B[38;5;241;43m*\u001B[39;49m\u001B[43margs\u001B[49m\u001B[43m,\u001B[49m\u001B[43m \u001B[49m\u001B[38;5;241;43m*\u001B[39;49m\u001B[38;5;241;43m*\u001B[39;49m\u001B[43mkwargs\u001B[49m\u001B[43m)\u001B[49m\n",
      "File \u001B[0;32m~/PycharmProjects/Transformers_translation_evaluation/venv/lib/python3.10/site-packages/torch/nn/modules/module.py:1527\u001B[0m, in \u001B[0;36mModule._call_impl\u001B[0;34m(self, *args, **kwargs)\u001B[0m\n\u001B[1;32m   1522\u001B[0m \u001B[38;5;66;03m# If we don't have any hooks, we want to skip the rest of the logic in\u001B[39;00m\n\u001B[1;32m   1523\u001B[0m \u001B[38;5;66;03m# this function, and just call forward.\u001B[39;00m\n\u001B[1;32m   1524\u001B[0m \u001B[38;5;28;01mif\u001B[39;00m \u001B[38;5;129;01mnot\u001B[39;00m (\u001B[38;5;28mself\u001B[39m\u001B[38;5;241m.\u001B[39m_backward_hooks \u001B[38;5;129;01mor\u001B[39;00m \u001B[38;5;28mself\u001B[39m\u001B[38;5;241m.\u001B[39m_backward_pre_hooks \u001B[38;5;129;01mor\u001B[39;00m \u001B[38;5;28mself\u001B[39m\u001B[38;5;241m.\u001B[39m_forward_hooks \u001B[38;5;129;01mor\u001B[39;00m \u001B[38;5;28mself\u001B[39m\u001B[38;5;241m.\u001B[39m_forward_pre_hooks\n\u001B[1;32m   1525\u001B[0m         \u001B[38;5;129;01mor\u001B[39;00m _global_backward_pre_hooks \u001B[38;5;129;01mor\u001B[39;00m _global_backward_hooks\n\u001B[1;32m   1526\u001B[0m         \u001B[38;5;129;01mor\u001B[39;00m _global_forward_hooks \u001B[38;5;129;01mor\u001B[39;00m _global_forward_pre_hooks):\n\u001B[0;32m-> 1527\u001B[0m     \u001B[38;5;28;01mreturn\u001B[39;00m \u001B[43mforward_call\u001B[49m\u001B[43m(\u001B[49m\u001B[38;5;241;43m*\u001B[39;49m\u001B[43margs\u001B[49m\u001B[43m,\u001B[49m\u001B[43m \u001B[49m\u001B[38;5;241;43m*\u001B[39;49m\u001B[38;5;241;43m*\u001B[39;49m\u001B[43mkwargs\u001B[49m\u001B[43m)\u001B[49m\n\u001B[1;32m   1529\u001B[0m \u001B[38;5;28;01mtry\u001B[39;00m:\n\u001B[1;32m   1530\u001B[0m     result \u001B[38;5;241m=\u001B[39m \u001B[38;5;28;01mNone\u001B[39;00m\n",
      "File \u001B[0;32m~/PycharmProjects/Transformers_translation_evaluation/venv/lib/python3.10/site-packages/torch/nn/modules/linear.py:114\u001B[0m, in \u001B[0;36mLinear.forward\u001B[0;34m(self, input)\u001B[0m\n\u001B[1;32m    113\u001B[0m \u001B[38;5;28;01mdef\u001B[39;00m \u001B[38;5;21mforward\u001B[39m(\u001B[38;5;28mself\u001B[39m, \u001B[38;5;28minput\u001B[39m: Tensor) \u001B[38;5;241m-\u001B[39m\u001B[38;5;241m>\u001B[39m Tensor:\n\u001B[0;32m--> 114\u001B[0m     \u001B[38;5;28;01mreturn\u001B[39;00m \u001B[43mF\u001B[49m\u001B[38;5;241;43m.\u001B[39;49m\u001B[43mlinear\u001B[49m\u001B[43m(\u001B[49m\u001B[38;5;28;43minput\u001B[39;49m\u001B[43m,\u001B[49m\u001B[43m \u001B[49m\u001B[38;5;28;43mself\u001B[39;49m\u001B[38;5;241;43m.\u001B[39;49m\u001B[43mweight\u001B[49m\u001B[43m,\u001B[49m\u001B[43m \u001B[49m\u001B[38;5;28;43mself\u001B[39;49m\u001B[38;5;241;43m.\u001B[39;49m\u001B[43mbias\u001B[49m\u001B[43m)\u001B[49m\n",
      "\u001B[0;31mKeyboardInterrupt\u001B[0m: "
     ]
    }
   ],
   "source": [
    "for index, row in df.iterrows():\n",
    "    df.loc[index, \"mbart\"] = infer_mbart(row[\"input_text\"])\n",
    "    if index % 100 == 0:\n",
    "        print(f\"Translated {index} rows for mbart\")\n",
    "    \n",
    "df.head()"
   ],
   "metadata": {
    "collapsed": false,
    "ExecuteTime": {
     "end_time": "2023-11-27T00:15:24.407187Z",
     "start_time": "2023-11-27T00:07:02.614628Z"
    }
   }
  },
  {
   "cell_type": "code",
   "execution_count": 40,
   "outputs": [
    {
     "data": {
      "text/plain": "                                          input_text  \\\n0  Changing Lives _BAR_ Changing Society _BAR_ Ho...   \n1                                           Site map   \n2                                           Feedback   \n3                                            Credits   \n4                                           Français   \n\n                                         target_text  \\\n0  Il a transformé notre vie _BAR_ Il a transform...   \n1                                       Plan du site   \n2                                        Rétroaction   \n3                                            Crédits   \n4                                            English   \n\n                                                  t5  \\\n0  Changing Lives _BAR_ Changing Society _BAR_ Ho...   \n1                                       Plan du site   \n2                                       Commentaires   \n3                                            Crédits   \n4                                           Français   \n\n                                              marian  \\\n0  Changement de vie _BAR_ Changement de société ...   \n1                                      Carte du site   \n2                                       Rétroactions   \n3                                            Crédits   \n4                                            English   \n\n                                               mbart  \n0  Changing Lives _BAR_ Changing Society _BAR_ Ho...  \n1                                      Carte du site  \n2                                        Rétroaction  \n3                                            Crédits  \n4                     English (en anglais seulement)  ",
      "text/html": "<div>\n<style scoped>\n    .dataframe tbody tr th:only-of-type {\n        vertical-align: middle;\n    }\n\n    .dataframe tbody tr th {\n        vertical-align: top;\n    }\n\n    .dataframe thead th {\n        text-align: right;\n    }\n</style>\n<table border=\"1\" class=\"dataframe\">\n  <thead>\n    <tr style=\"text-align: right;\">\n      <th></th>\n      <th>input_text</th>\n      <th>target_text</th>\n      <th>t5</th>\n      <th>marian</th>\n      <th>mbart</th>\n    </tr>\n  </thead>\n  <tbody>\n    <tr>\n      <th>0</th>\n      <td>Changing Lives _BAR_ Changing Society _BAR_ Ho...</td>\n      <td>Il a transformé notre vie _BAR_ Il a transform...</td>\n      <td>Changing Lives _BAR_ Changing Society _BAR_ Ho...</td>\n      <td>Changement de vie _BAR_ Changement de société ...</td>\n      <td>Changing Lives _BAR_ Changing Society _BAR_ Ho...</td>\n    </tr>\n    <tr>\n      <th>1</th>\n      <td>Site map</td>\n      <td>Plan du site</td>\n      <td>Plan du site</td>\n      <td>Carte du site</td>\n      <td>Carte du site</td>\n    </tr>\n    <tr>\n      <th>2</th>\n      <td>Feedback</td>\n      <td>Rétroaction</td>\n      <td>Commentaires</td>\n      <td>Rétroactions</td>\n      <td>Rétroaction</td>\n    </tr>\n    <tr>\n      <th>3</th>\n      <td>Credits</td>\n      <td>Crédits</td>\n      <td>Crédits</td>\n      <td>Crédits</td>\n      <td>Crédits</td>\n    </tr>\n    <tr>\n      <th>4</th>\n      <td>Français</td>\n      <td>English</td>\n      <td>Français</td>\n      <td>English</td>\n      <td>English (en anglais seulement)</td>\n    </tr>\n  </tbody>\n</table>\n</div>"
     },
     "execution_count": 40,
     "metadata": {},
     "output_type": "execute_result"
    }
   ],
   "source": [
    "df.to_csv(\"giga_fren_translated.csv\", index=False)\n",
    "df = pd.read_csv(\"giga_fren_translated.csv\")\n",
    "df.head()"
   ],
   "metadata": {
    "collapsed": false,
    "ExecuteTime": {
     "end_time": "2023-11-27T00:15:47.454045Z",
     "start_time": "2023-11-27T00:15:47.314835Z"
    }
   }
  },
  {
   "cell_type": "code",
   "execution_count": 49,
   "outputs": [
    {
     "data": {
      "text/plain": "                                          input_text  \\\n0  Changing Lives _BAR_ Changing Society _BAR_ Ho...   \n1                                           Site map   \n2                                           Feedback   \n3                                            Credits   \n4                                           Français   \n\n                                         target_text  \\\n0  Il a transformé notre vie _BAR_ Il a transform...   \n1                                       Plan du site   \n2                                        Rétroaction   \n3                                            Crédits   \n4                                            English   \n\n                                                  t5  \\\n0  Changing Lives _BAR_ Changing Society _BAR_ Ho...   \n1                                       Plan du site   \n2                                       Commentaires   \n3                                            Crédits   \n4                                           Français   \n\n                                              marian  \\\n0  Changement de vie _BAR_ Changement de société ...   \n1                                      Carte du site   \n2                                       Rétroactions   \n3                                            Crédits   \n4                                            English   \n\n                                               mbart   bleu_t5  bleu_marian  \n0  Changing Lives _BAR_ Changing Society _BAR_ Ho...  0.454065     0.674687  \n1                                      Carte du site  1.000000     0.576084  \n2                                        Rétroaction  0.026658     0.903602  \n3                                            Crédits  1.000000     1.000000  \n4                     English (en anglais seulement)  0.065006     1.000000  ",
      "text/html": "<div>\n<style scoped>\n    .dataframe tbody tr th:only-of-type {\n        vertical-align: middle;\n    }\n\n    .dataframe tbody tr th {\n        vertical-align: top;\n    }\n\n    .dataframe thead th {\n        text-align: right;\n    }\n</style>\n<table border=\"1\" class=\"dataframe\">\n  <thead>\n    <tr style=\"text-align: right;\">\n      <th></th>\n      <th>input_text</th>\n      <th>target_text</th>\n      <th>t5</th>\n      <th>marian</th>\n      <th>mbart</th>\n      <th>bleu_t5</th>\n      <th>bleu_marian</th>\n    </tr>\n  </thead>\n  <tbody>\n    <tr>\n      <th>0</th>\n      <td>Changing Lives _BAR_ Changing Society _BAR_ Ho...</td>\n      <td>Il a transformé notre vie _BAR_ Il a transform...</td>\n      <td>Changing Lives _BAR_ Changing Society _BAR_ Ho...</td>\n      <td>Changement de vie _BAR_ Changement de société ...</td>\n      <td>Changing Lives _BAR_ Changing Society _BAR_ Ho...</td>\n      <td>0.454065</td>\n      <td>0.674687</td>\n    </tr>\n    <tr>\n      <th>1</th>\n      <td>Site map</td>\n      <td>Plan du site</td>\n      <td>Plan du site</td>\n      <td>Carte du site</td>\n      <td>Carte du site</td>\n      <td>1.000000</td>\n      <td>0.576084</td>\n    </tr>\n    <tr>\n      <th>2</th>\n      <td>Feedback</td>\n      <td>Rétroaction</td>\n      <td>Commentaires</td>\n      <td>Rétroactions</td>\n      <td>Rétroaction</td>\n      <td>0.026658</td>\n      <td>0.903602</td>\n    </tr>\n    <tr>\n      <th>3</th>\n      <td>Credits</td>\n      <td>Crédits</td>\n      <td>Crédits</td>\n      <td>Crédits</td>\n      <td>Crédits</td>\n      <td>1.000000</td>\n      <td>1.000000</td>\n    </tr>\n    <tr>\n      <th>4</th>\n      <td>Français</td>\n      <td>English</td>\n      <td>Français</td>\n      <td>English</td>\n      <td>English (en anglais seulement)</td>\n      <td>0.065006</td>\n      <td>1.000000</td>\n    </tr>\n  </tbody>\n</table>\n</div>"
     },
     "execution_count": 49,
     "metadata": {},
     "output_type": "execute_result"
    }
   ],
   "source": [
    "from nltk.translate.bleu_score import corpus_bleu, SmoothingFunction\n",
    "\n",
    "def calculate_bleu(reference, candidate):\n",
    "    return corpus_bleu([[reference]], [candidate], smoothing_function=SmoothingFunction().method1)\n",
    "df[\"bleu_t5\"] = df.apply(lambda i: calculate_bleu(i[\"target_text\"], i[\"t5\"]), axis=1,)\n",
    "df[\"bleu_marian\"] = df.apply(lambda i: calculate_bleu(i[\"target_text\"], i[\"marian\"]), axis=1)\n",
    "# df[\"bleu_mbart\"] = df.apply(lambda x: calculate_bleu(x[\"target_text\"], x[\"mbart\"]), axis=1)\n",
    "df.head()"
   ],
   "metadata": {
    "collapsed": false,
    "ExecuteTime": {
     "end_time": "2023-11-27T00:23:11.766667Z",
     "start_time": "2023-11-27T00:23:10.944556Z"
    }
   }
  },
  {
   "cell_type": "code",
   "execution_count": 50,
   "outputs": [
    {
     "name": "stdout",
     "output_type": "stream",
     "text": [
      "Average BLEU score for T5: 0.6855164935960816\n",
      "Average BLEU score for Marian: 0.6906491376640956\n",
      "Median BLEU score for T5: 0.7000804895239849\n",
      "Median BLEU score for Marian: 0.7034343502197589\n",
      "Standard deviation for T5: 0.1527190202690941\n",
      "Standard deviation for Marian: 0.1486759983530563\n",
      "Variance for T5: 0.023323099151951972\n",
      "Variance for Marian: 0.022104552486278004\n"
     ]
    }
   ],
   "source": [
    "# calculate average bleu score higher is better\n",
    "print(f\"Average BLEU score for T5: {df['bleu_t5'].mean()}\")\n",
    "print(f\"Average BLEU score for Marian: {df['bleu_marian'].mean()}\")\n",
    "# print(f\"Average BLEU score for MBart: {df['bleu_mbart'].mean()}\")\n",
    "\n",
    "# calculate median bleu score higher is better\n",
    "print(f\"Median BLEU score for T5: {df['bleu_t5'].median()}\")\n",
    "print(f\"Median BLEU score for Marian: {df['bleu_marian'].median()}\")\n",
    "# print(f\"Median BLEU score for MBart: {df['bleu_mbart'].median()}\")\n",
    "\n",
    "# calculate standard deviation lower is better\n",
    "print(f\"Standard deviation for T5: {df['bleu_t5'].std()}\")\n",
    "print(f\"Standard deviation for Marian: {df['bleu_marian'].std()}\")\n",
    "# print(f\"Standard deviation for MBart: {df['bleu_mbart'].std()}\")\n",
    "\n",
    "# calculate variance lower is better\n",
    "print(f\"Variance for T5: {df['bleu_t5'].var()}\")\n",
    "print(f\"Variance for Marian: {df['bleu_marian'].var()}\")\n",
    "# print(f\"Variance for MBart: {df['bleu_mbart'].var()}\")"
   ],
   "metadata": {
    "collapsed": false,
    "ExecuteTime": {
     "end_time": "2023-11-27T00:23:14.143780Z",
     "start_time": "2023-11-27T00:23:14.136065Z"
    }
   }
  },
  {
   "cell_type": "code",
   "execution_count": 53,
   "outputs": [
    {
     "data": {
      "text/plain": "<Figure size 1000x500 with 1 Axes>",
      "image/png": "[encoded data removed]"
     },
     "metadata": {},
     "output_type": "display_data"
    }
   ],
   "source": [
    "import matplotlib.pyplot as plt\n",
    "\n",
    "plt.figure(figsize=(10, 5))\n",
    "plt.hist(df[\"bleu_t5\"], bins=100, alpha=0.5, label=\"T5\")\n",
    "plt.hist(df[\"bleu_marian\"], bins=100, alpha=0.5, label=\"Marian\")\n",
    "# plt.hist(df[\"bleu_mbart\"], bins=100, alpha=0.5, label=\"MBart\")\n",
    "plt.legend()\n",
    "plt.title(\"Histogram of BLEU scores for T5 and Marian\")\n",
    "plt.xlabel(\"BLEU score\")\n",
    "plt.ylabel(\"Count\")\n",
    "plt.show()"
   ],
   "metadata": {
    "collapsed": false,
    "ExecuteTime": {
     "end_time": "2023-11-27T00:24:56.998697Z",
     "start_time": "2023-11-27T00:24:56.776192Z"
    }
   }
  }
 ]
}
