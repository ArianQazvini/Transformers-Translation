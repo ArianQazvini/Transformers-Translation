{
 "nbformat": 4,
 "nbformat_minor": 0,
 "metadata": {
  "colab": {
   "provenance": []
  },
  "kernelspec": {
   "name": "python3",
   "language": "python",
   "display_name": "Python 3 (ipykernel)"
  },
  "language_info": {
   "name": "python"
  }
 },
 "cells": [
  {
   "cell_type": "code",
   "execution_count": 18,
   "metadata": {
    "colab": {
     "base_uri": "https://localhost:8080/"
    },
    "id": "5NRY7PS5Tdqp",
    "outputId": "bbf3f4af-daac-4a9c-b8ca-5963dff3f772",
    "ExecuteTime": {
     "end_time": "2023-11-26T23:30:36.780160Z",
     "start_time": "2023-11-26T23:30:32.719386Z"
    }
   },
   "outputs": [
    {
     "name": "stderr",
     "output_type": "stream",
     "text": [
      "Special tokens have been added in the vocabulary, make sure the associated word embeddings are fine-tuned or trained.\n"
     ]
    }
   ],
   "source": [
    "from transformers import T5ForConditionalGeneration, T5Tokenizer\n",
    "\n",
    "model_name = \"t5-small\"\n",
    "model_t5 = T5ForConditionalGeneration.from_pretrained(model_name)\n",
    "tokenizer_t5 = T5Tokenizer.from_pretrained(model_name)\n",
    "\n",
    "def infer_t5(input_text, command=\"translate to french\"):\n",
    "    prompt = f\"{command}: {input_text}\"\n",
    "    input_ids = tokenizer_t5.encode(prompt, return_tensors=\"pt\")\n",
    "    output_ids = model_t5.generate(input_ids, max_new_tokens=1000)\n",
    "    output_text = tokenizer_t5.decode(output_ids[0], skip_special_tokens=True)\n",
    "    return output_text\n"
   ]
  },
  {
   "cell_type": "code",
   "source": [
    "from transformers import MarianMTModel, MarianTokenizer\n",
    "\n",
    "model_name = \"Helsinki-NLP/opus-mt-en-roa\"\n",
    "tokenizer_marian = MarianTokenizer.from_pretrained(model_name)\n",
    "model_marian = MarianMTModel.from_pretrained(model_name)\n",
    "\n",
    "def infer_marian(input_text, command=\"translate to french\"):\n",
    "    src_text = [f\">>fra<<{input_text}\"]\n",
    "    output_ids = model_marian.generate(**tokenizer_marian(src_text, return_tensors=\"pt\", padding=True))\n",
    "    output_text = tokenizer_marian.decode(output_ids[0], skip_special_tokens=True)\n",
    "    return output_text\n"
   ],
   "metadata": {
    "colab": {
     "base_uri": "https://localhost:8080/"
    },
    "id": "tBisen13rJ03",
    "outputId": "24ba9dc5-38b9-416b-a435-ea1675cb169a",
    "ExecuteTime": {
     "end_time": "2023-11-26T23:19:47.704645Z",
     "start_time": "2023-11-26T23:19:43.624629Z"
    }
   },
   "execution_count": 6,
   "outputs": []
  },
  {
   "cell_type": "code",
   "source": [
    "from transformers import MBartForConditionalGeneration, MBart50TokenizerFast\n",
    "\n",
    "model_name = 'facebook/mbart-large-50-many-to-many-mmt'\n",
    "model_mbart = MBartForConditionalGeneration.from_pretrained(model_name)\n",
    "tokenizer_mbart = MBart50TokenizerFast.from_pretrained(model_name)\n",
    "\n",
    "def infer_mbart(input_text, command=\"translate to french\"):\n",
    "    tokenizer_mbart.src_lang = \"en_XX\"\n",
    "    encoded_hi = tokenizer_mbart(input_text, return_tensors=\"pt\")\n",
    "    generated_tokens = model_mbart.generate(\n",
    "        **encoded_hi,\n",
    "        forced_bos_token_id=tokenizer_mbart.lang_code_to_id[\"fr_XX\"]\n",
    "    )\n",
    "    return tokenizer_mbart.batch_decode(generated_tokens, skip_special_tokens=True)[0]"
   ],
   "metadata": {
    "colab": {
     "base_uri": "https://localhost:8080/"
    },
    "id": "PSkcGMQt62RI",
    "outputId": "803c9138-0caf-4b0d-ea33-98b527d93e1a",
    "ExecuteTime": {
     "end_time": "2023-11-26T23:21:05.994163Z",
     "start_time": "2023-11-26T23:19:47.693177Z"
    }
   },
   "execution_count": 7,
   "outputs": []
  },
  {
   "cell_type": "code",
   "source": [
    "import requests \n",
    "import pandas as pd\n",
    "\n",
    "dataset = [] \n",
    "for index in range(0, 100, 100):\n",
    "    url = f\"https://datasets-server.huggingface.co/rows?dataset=giga_fren&config=en-fr&split=train&offset={index}&length=100\"\n",
    "    response = requests.get(url)\n",
    "    data = response.json()\n",
    "    for row in data[\"rows\"]:\n",
    "        x = row[\"row\"][\"translation\"][\"en\"]\n",
    "        y = row[\"row\"][\"translation\"][\"fr\"]\n",
    "        dataset.append((x, y))\n",
    "    print(f\"Downloaded {index + 100} rows\")\n",
    "df = pd.DataFrame(dataset, columns=[\"input_text\", \"target_text\"])\n",
    "df.head()\n",
    "df.to_csv(\"giga_fren.csv\", index=False)"
   ],
   "metadata": {
    "id": "tQx7W_Heh4me",
    "ExecuteTime": {
     "end_time": "2023-11-27T07:02:55.304201Z",
     "start_time": "2023-11-27T07:02:53.534663Z"
    }
   },
   "execution_count": 55,
   "outputs": [
    {
     "name": "stdout",
     "output_type": "stream",
     "text": [
      "Downloaded 100 rows\n"
     ]
    }
   ]
  },
  {
   "cell_type": "code",
   "execution_count": 57,
   "outputs": [
    {
     "name": "stdout",
     "output_type": "stream",
     "text": [
      "Translated 0 rows for t5\n",
      "Translated 10 rows for t5\n",
      "Translated 20 rows for t5\n",
      "Translated 30 rows for t5\n",
      "Translated 40 rows for t5\n",
      "Translated 50 rows for t5\n",
      "Translated 60 rows for t5\n",
      "Translated 70 rows for t5\n",
      "Translated 80 rows for t5\n",
      "Translated 90 rows for t5\n"
     ]
    },
    {
     "data": {
      "text/plain": "                                          input_text  \\\n0  Changing Lives _BAR_ Changing Society _BAR_ Ho...   \n1                                           Site map   \n2                                           Feedback   \n3                                            Credits   \n4                                           Français   \n\n                                         target_text  \\\n0  Il a transformé notre vie _BAR_ Il a transform...   \n1                                       Plan du site   \n2                                        Rétroaction   \n3                                            Crédits   \n4                                            English   \n\n                                                  t5  \n0  Changing Lives _BAR_ Changing Society _BAR_ Ho...  \n1                                       Plan du site  \n2                                       Commentaires  \n3                                            Crédits  \n4                                           Français  ",
      "text/html": "<div>\n<style scoped>\n    .dataframe tbody tr th:only-of-type {\n        vertical-align: middle;\n    }\n\n    .dataframe tbody tr th {\n        vertical-align: top;\n    }\n\n    .dataframe thead th {\n        text-align: right;\n    }\n</style>\n<table border=\"1\" class=\"dataframe\">\n  <thead>\n    <tr style=\"text-align: right;\">\n      <th></th>\n      <th>input_text</th>\n      <th>target_text</th>\n      <th>t5</th>\n    </tr>\n  </thead>\n  <tbody>\n    <tr>\n      <th>0</th>\n      <td>Changing Lives _BAR_ Changing Society _BAR_ Ho...</td>\n      <td>Il a transformé notre vie _BAR_ Il a transform...</td>\n      <td>Changing Lives _BAR_ Changing Society _BAR_ Ho...</td>\n    </tr>\n    <tr>\n      <th>1</th>\n      <td>Site map</td>\n      <td>Plan du site</td>\n      <td>Plan du site</td>\n    </tr>\n    <tr>\n      <th>2</th>\n      <td>Feedback</td>\n      <td>Rétroaction</td>\n      <td>Commentaires</td>\n    </tr>\n    <tr>\n      <th>3</th>\n      <td>Credits</td>\n      <td>Crédits</td>\n      <td>Crédits</td>\n    </tr>\n    <tr>\n      <th>4</th>\n      <td>Français</td>\n      <td>English</td>\n      <td>Français</td>\n    </tr>\n  </tbody>\n</table>\n</div>"
     },
     "execution_count": 57,
     "metadata": {},
     "output_type": "execute_result"
    }
   ],
   "source": [
    "df = pd.read_csv(\"giga_fren.csv\")\n",
    "\n",
    "for index, row in df.iterrows():\n",
    "    df.loc[index, \"t5\"] = infer_t5(row[\"input_text\"])\n",
    "    if index % 10 == 0:\n",
    "        print(f\"Translated {index} rows for t5\")      \n",
    "\n",
    "df.head()"
   ],
   "metadata": {
    "collapsed": false,
    "ExecuteTime": {
     "end_time": "2023-11-27T07:03:42.230238Z",
     "start_time": "2023-11-27T07:03:21.243148Z"
    }
   }
  },
  {
   "cell_type": "code",
   "execution_count": 59,
   "outputs": [
    {
     "name": "stdout",
     "output_type": "stream",
     "text": [
      "Translated 0 rows for marian\n",
      "Translated 10 rows for marian\n",
      "Translated 20 rows for marian\n",
      "Translated 30 rows for marian\n",
      "Translated 40 rows for marian\n",
      "Translated 50 rows for marian\n",
      "Translated 60 rows for marian\n",
      "Translated 70 rows for marian\n",
      "Translated 80 rows for marian\n",
      "Translated 90 rows for marian\n"
     ]
    },
    {
     "data": {
      "text/plain": "                                          input_text  \\\n0  Changing Lives _BAR_ Changing Society _BAR_ Ho...   \n1                                           Site map   \n2                                           Feedback   \n3                                            Credits   \n4                                           Français   \n\n                                         target_text  \\\n0  Il a transformé notre vie _BAR_ Il a transform...   \n1                                       Plan du site   \n2                                        Rétroaction   \n3                                            Crédits   \n4                                            English   \n\n                                                  t5  \\\n0  Changing Lives _BAR_ Changing Society _BAR_ Ho...   \n1                                       Plan du site   \n2                                       Commentaires   \n3                                            Crédits   \n4                                           Français   \n\n                                              marian  \n0  Changement de vie _BAR_ Changement de société ...  \n1                                      Carte du site  \n2                                       Rétroactions  \n3                                            Crédits  \n4                                            English  ",
      "text/html": "<div>\n<style scoped>\n    .dataframe tbody tr th:only-of-type {\n        vertical-align: middle;\n    }\n\n    .dataframe tbody tr th {\n        vertical-align: top;\n    }\n\n    .dataframe thead th {\n        text-align: right;\n    }\n</style>\n<table border=\"1\" class=\"dataframe\">\n  <thead>\n    <tr style=\"text-align: right;\">\n      <th></th>\n      <th>input_text</th>\n      <th>target_text</th>\n      <th>t5</th>\n      <th>marian</th>\n    </tr>\n  </thead>\n  <tbody>\n    <tr>\n      <th>0</th>\n      <td>Changing Lives _BAR_ Changing Society _BAR_ Ho...</td>\n      <td>Il a transformé notre vie _BAR_ Il a transform...</td>\n      <td>Changing Lives _BAR_ Changing Society _BAR_ Ho...</td>\n      <td>Changement de vie _BAR_ Changement de société ...</td>\n    </tr>\n    <tr>\n      <th>1</th>\n      <td>Site map</td>\n      <td>Plan du site</td>\n      <td>Plan du site</td>\n      <td>Carte du site</td>\n    </tr>\n    <tr>\n      <th>2</th>\n      <td>Feedback</td>\n      <td>Rétroaction</td>\n      <td>Commentaires</td>\n      <td>Rétroactions</td>\n    </tr>\n    <tr>\n      <th>3</th>\n      <td>Credits</td>\n      <td>Crédits</td>\n      <td>Crédits</td>\n      <td>Crédits</td>\n    </tr>\n    <tr>\n      <th>4</th>\n      <td>Français</td>\n      <td>English</td>\n      <td>Français</td>\n      <td>English</td>\n    </tr>\n  </tbody>\n</table>\n</div>"
     },
     "execution_count": 59,
     "metadata": {},
     "output_type": "execute_result"
    }
   ],
   "source": [
    "for index, row in df.iterrows():\n",
    "    df.loc[index, \"marian\"] = infer_marian(row[\"input_text\"])\n",
    "    if index % 10 == 0:\n",
    "        print(f\"Translated {index} rows for marian\")\n",
    "\n",
    "df.head()"
   ],
   "metadata": {
    "collapsed": false,
    "ExecuteTime": {
     "end_time": "2023-11-27T07:06:33.160965Z",
     "start_time": "2023-11-27T07:05:21.282865Z"
    }
   }
  },
  {
   "cell_type": "code",
   "execution_count": 60,
   "outputs": [
    {
     "name": "stdout",
     "output_type": "stream",
     "text": [
      "Translated 0 rows for mbart\n",
      "Translated 10 rows for mbart\n",
      "Translated 20 rows for mbart\n",
      "Translated 30 rows for mbart\n",
      "Translated 40 rows for mbart\n",
      "Translated 50 rows for mbart\n",
      "Translated 60 rows for mbart\n",
      "Translated 70 rows for mbart\n",
      "Translated 80 rows for mbart\n",
      "Translated 90 rows for mbart\n"
     ]
    },
    {
     "data": {
      "text/plain": "                                          input_text  \\\n0  Changing Lives _BAR_ Changing Society _BAR_ Ho...   \n1                                           Site map   \n2                                           Feedback   \n3                                            Credits   \n4                                           Français   \n\n                                         target_text  \\\n0  Il a transformé notre vie _BAR_ Il a transform...   \n1                                       Plan du site   \n2                                        Rétroaction   \n3                                            Crédits   \n4                                            English   \n\n                                                  t5  \\\n0  Changing Lives _BAR_ Changing Society _BAR_ Ho...   \n1                                       Plan du site   \n2                                       Commentaires   \n3                                            Crédits   \n4                                           Français   \n\n                                              marian  \\\n0  Changement de vie _BAR_ Changement de société ...   \n1                                      Carte du site   \n2                                       Rétroactions   \n3                                            Crédits   \n4                                            English   \n\n                                               mbart  \n0  Changing Lives _BAR_ Changing Society _BAR_ Ho...  \n1                                      Carte du site  \n2                                        Rétroaction  \n3                                            Crédits  \n4                     English (en anglais seulement)  ",
      "text/html": "<div>\n<style scoped>\n    .dataframe tbody tr th:only-of-type {\n        vertical-align: middle;\n    }\n\n    .dataframe tbody tr th {\n        vertical-align: top;\n    }\n\n    .dataframe thead th {\n        text-align: right;\n    }\n</style>\n<table border=\"1\" class=\"dataframe\">\n  <thead>\n    <tr style=\"text-align: right;\">\n      <th></th>\n      <th>input_text</th>\n      <th>target_text</th>\n      <th>t5</th>\n      <th>marian</th>\n      <th>mbart</th>\n    </tr>\n  </thead>\n  <tbody>\n    <tr>\n      <th>0</th>\n      <td>Changing Lives _BAR_ Changing Society _BAR_ Ho...</td>\n      <td>Il a transformé notre vie _BAR_ Il a transform...</td>\n      <td>Changing Lives _BAR_ Changing Society _BAR_ Ho...</td>\n      <td>Changement de vie _BAR_ Changement de société ...</td>\n      <td>Changing Lives _BAR_ Changing Society _BAR_ Ho...</td>\n    </tr>\n    <tr>\n      <th>1</th>\n      <td>Site map</td>\n      <td>Plan du site</td>\n      <td>Plan du site</td>\n      <td>Carte du site</td>\n      <td>Carte du site</td>\n    </tr>\n    <tr>\n      <th>2</th>\n      <td>Feedback</td>\n      <td>Rétroaction</td>\n      <td>Commentaires</td>\n      <td>Rétroactions</td>\n      <td>Rétroaction</td>\n    </tr>\n    <tr>\n      <th>3</th>\n      <td>Credits</td>\n      <td>Crédits</td>\n      <td>Crédits</td>\n      <td>Crédits</td>\n      <td>Crédits</td>\n    </tr>\n    <tr>\n      <th>4</th>\n      <td>Français</td>\n      <td>English</td>\n      <td>Français</td>\n      <td>English</td>\n      <td>English (en anglais seulement)</td>\n    </tr>\n  </tbody>\n</table>\n</div>"
     },
     "execution_count": 60,
     "metadata": {},
     "output_type": "execute_result"
    }
   ],
   "source": [
    "for index, row in df.iterrows():\n",
    "    df.loc[index, \"mbart\"] = infer_mbart(row[\"input_text\"])\n",
    "    if index % 10 == 0:\n",
    "        print(f\"Translated {index} rows for mbart\")\n",
    "    \n",
    "df.head()"
   ],
   "metadata": {
    "collapsed": false,
    "ExecuteTime": {
     "end_time": "2023-11-27T07:15:26.359086Z",
     "start_time": "2023-11-27T07:06:40.740955Z"
    }
   }
  },
  {
   "cell_type": "code",
   "execution_count": 61,
   "outputs": [
    {
     "data": {
      "text/plain": "                                          input_text  \\\n0  Changing Lives _BAR_ Changing Society _BAR_ Ho...   \n1                                           Site map   \n2                                           Feedback   \n3                                            Credits   \n4                                           Français   \n\n                                         target_text  \\\n0  Il a transformé notre vie _BAR_ Il a transform...   \n1                                       Plan du site   \n2                                        Rétroaction   \n3                                            Crédits   \n4                                            English   \n\n                                                  t5  \\\n0  Changing Lives _BAR_ Changing Society _BAR_ Ho...   \n1                                       Plan du site   \n2                                       Commentaires   \n3                                            Crédits   \n4                                           Français   \n\n                                              marian  \\\n0  Changement de vie _BAR_ Changement de société ...   \n1                                      Carte du site   \n2                                       Rétroactions   \n3                                            Crédits   \n4                                            English   \n\n                                               mbart  \n0  Changing Lives _BAR_ Changing Society _BAR_ Ho...  \n1                                      Carte du site  \n2                                        Rétroaction  \n3                                            Crédits  \n4                     English (en anglais seulement)  ",
      "text/html": "<div>\n<style scoped>\n    .dataframe tbody tr th:only-of-type {\n        vertical-align: middle;\n    }\n\n    .dataframe tbody tr th {\n        vertical-align: top;\n    }\n\n    .dataframe thead th {\n        text-align: right;\n    }\n</style>\n<table border=\"1\" class=\"dataframe\">\n  <thead>\n    <tr style=\"text-align: right;\">\n      <th></th>\n      <th>input_text</th>\n      <th>target_text</th>\n      <th>t5</th>\n      <th>marian</th>\n      <th>mbart</th>\n    </tr>\n  </thead>\n  <tbody>\n    <tr>\n      <th>0</th>\n      <td>Changing Lives _BAR_ Changing Society _BAR_ Ho...</td>\n      <td>Il a transformé notre vie _BAR_ Il a transform...</td>\n      <td>Changing Lives _BAR_ Changing Society _BAR_ Ho...</td>\n      <td>Changement de vie _BAR_ Changement de société ...</td>\n      <td>Changing Lives _BAR_ Changing Society _BAR_ Ho...</td>\n    </tr>\n    <tr>\n      <th>1</th>\n      <td>Site map</td>\n      <td>Plan du site</td>\n      <td>Plan du site</td>\n      <td>Carte du site</td>\n      <td>Carte du site</td>\n    </tr>\n    <tr>\n      <th>2</th>\n      <td>Feedback</td>\n      <td>Rétroaction</td>\n      <td>Commentaires</td>\n      <td>Rétroactions</td>\n      <td>Rétroaction</td>\n    </tr>\n    <tr>\n      <th>3</th>\n      <td>Credits</td>\n      <td>Crédits</td>\n      <td>Crédits</td>\n      <td>Crédits</td>\n      <td>Crédits</td>\n    </tr>\n    <tr>\n      <th>4</th>\n      <td>Français</td>\n      <td>English</td>\n      <td>Français</td>\n      <td>English</td>\n      <td>English (en anglais seulement)</td>\n    </tr>\n  </tbody>\n</table>\n</div>"
     },
     "execution_count": 61,
     "metadata": {},
     "output_type": "execute_result"
    }
   ],
   "source": [
    "df.to_csv(\"giga_fren_translated.csv\", index=False)\n",
    "df = pd.read_csv(\"giga_fren_translated.csv\")\n",
    "df.head()"
   ],
   "metadata": {
    "collapsed": false,
    "ExecuteTime": {
     "end_time": "2023-11-27T07:16:21.918544Z",
     "start_time": "2023-11-27T07:16:21.862167Z"
    }
   }
  },
  {
   "cell_type": "code",
   "execution_count": 62,
   "outputs": [
    {
     "data": {
      "text/plain": "                                          input_text  \\\n0  Changing Lives _BAR_ Changing Society _BAR_ Ho...   \n1                                           Site map   \n2                                           Feedback   \n3                                            Credits   \n4                                           Français   \n\n                                         target_text  \\\n0  Il a transformé notre vie _BAR_ Il a transform...   \n1                                       Plan du site   \n2                                        Rétroaction   \n3                                            Crédits   \n4                                            English   \n\n                                                  t5  \\\n0  Changing Lives _BAR_ Changing Society _BAR_ Ho...   \n1                                       Plan du site   \n2                                       Commentaires   \n3                                            Crédits   \n4                                           Français   \n\n                                              marian  \\\n0  Changement de vie _BAR_ Changement de société ...   \n1                                      Carte du site   \n2                                       Rétroactions   \n3                                            Crédits   \n4                                            English   \n\n                                               mbart   bleu_t5  bleu_marian  \\\n0  Changing Lives _BAR_ Changing Society _BAR_ Ho...  0.454065     0.674687   \n1                                      Carte du site  1.000000     0.576084   \n2                                        Rétroaction  0.026658     0.903602   \n3                                            Crédits  1.000000     1.000000   \n4                     English (en anglais seulement)  0.065006     1.000000   \n\n   bleu_mbart  \n0    0.513653  \n1    0.576084  \n2    1.000000  \n3    1.000000  \n4    0.189043  ",
      "text/html": "<div>\n<style scoped>\n    .dataframe tbody tr th:only-of-type {\n        vertical-align: middle;\n    }\n\n    .dataframe tbody tr th {\n        vertical-align: top;\n    }\n\n    .dataframe thead th {\n        text-align: right;\n    }\n</style>\n<table border=\"1\" class=\"dataframe\">\n  <thead>\n    <tr style=\"text-align: right;\">\n      <th></th>\n      <th>input_text</th>\n      <th>target_text</th>\n      <th>t5</th>\n      <th>marian</th>\n      <th>mbart</th>\n      <th>bleu_t5</th>\n      <th>bleu_marian</th>\n      <th>bleu_mbart</th>\n    </tr>\n  </thead>\n  <tbody>\n    <tr>\n      <th>0</th>\n      <td>Changing Lives _BAR_ Changing Society _BAR_ Ho...</td>\n      <td>Il a transformé notre vie _BAR_ Il a transform...</td>\n      <td>Changing Lives _BAR_ Changing Society _BAR_ Ho...</td>\n      <td>Changement de vie _BAR_ Changement de société ...</td>\n      <td>Changing Lives _BAR_ Changing Society _BAR_ Ho...</td>\n      <td>0.454065</td>\n      <td>0.674687</td>\n      <td>0.513653</td>\n    </tr>\n    <tr>\n      <th>1</th>\n      <td>Site map</td>\n      <td>Plan du site</td>\n      <td>Plan du site</td>\n      <td>Carte du site</td>\n      <td>Carte du site</td>\n      <td>1.000000</td>\n      <td>0.576084</td>\n      <td>0.576084</td>\n    </tr>\n    <tr>\n      <th>2</th>\n      <td>Feedback</td>\n      <td>Rétroaction</td>\n      <td>Commentaires</td>\n      <td>Rétroactions</td>\n      <td>Rétroaction</td>\n      <td>0.026658</td>\n      <td>0.903602</td>\n      <td>1.000000</td>\n    </tr>\n    <tr>\n      <th>3</th>\n      <td>Credits</td>\n      <td>Crédits</td>\n      <td>Crédits</td>\n      <td>Crédits</td>\n      <td>Crédits</td>\n      <td>1.000000</td>\n      <td>1.000000</td>\n      <td>1.000000</td>\n    </tr>\n    <tr>\n      <th>4</th>\n      <td>Français</td>\n      <td>English</td>\n      <td>Français</td>\n      <td>English</td>\n      <td>English (en anglais seulement)</td>\n      <td>0.065006</td>\n      <td>1.000000</td>\n      <td>0.189043</td>\n    </tr>\n  </tbody>\n</table>\n</div>"
     },
     "execution_count": 62,
     "metadata": {},
     "output_type": "execute_result"
    }
   ],
   "source": [
    "from nltk.translate.bleu_score import corpus_bleu, SmoothingFunction\n",
    "\n",
    "def calculate_bleu(reference, candidate):\n",
    "    return corpus_bleu([[reference]], [candidate], smoothing_function=SmoothingFunction().method1)\n",
    "\n",
    "df[\"bleu_t5\"] = df.apply(lambda i: calculate_bleu(i[\"target_text\"], i[\"t5\"]), axis=1,)\n",
    "\n",
    "df[\"bleu_marian\"] = df.apply(lambda i: calculate_bleu(i[\"target_text\"], i[\"marian\"]), axis=1)\n",
    "\n",
    "df[\"bleu_mbart\"] = df.apply(lambda x: calculate_bleu(x[\"target_text\"], x[\"mbart\"]), axis=1)\n",
    "\n",
    "df.head()"
   ],
   "metadata": {
    "collapsed": false,
    "ExecuteTime": {
     "end_time": "2023-11-27T07:16:53.307833Z",
     "start_time": "2023-11-27T07:16:53.253113Z"
    }
   }
  },
  {
   "cell_type": "code",
   "execution_count": 64,
   "outputs": [
    {
     "name": "stdout",
     "output_type": "stream",
     "text": [
      "Average BLEU score for T5: 0.6816516245310348\n",
      "Average BLEU score for Marian: 0.7032052355572975\n",
      "Average BLEU score for MBart: 0.7076347558959555\n",
      "Median BLEU score for T5: 0.7010592662743498\n",
      "Median BLEU score for Marian: 0.7155576548415923\n",
      "Median BLEU score for MBart: 0.7067694600587531\n",
      "Standard deviation for T5: 0.19484410251190873\n",
      "Standard deviation for Marian: 0.1703051968754916\n",
      "Standard deviation for MBart: 0.17120738199501923\n",
      "Variance for T5: 0.0379642242836712\n",
      "Variance for Marian: 0.029003860082799947\n",
      "Variance for MBart: 0.02931196764958843\n"
     ]
    }
   ],
   "source": [
    "# calculate average bleu score higher is better\n",
    "print(f\"Average BLEU score for T5: {df['bleu_t5'].mean()}\")\n",
    "print(f\"Average BLEU score for Marian: {df['bleu_marian'].mean()}\")\n",
    "print(f\"Average BLEU score for MBart: {df['bleu_mbart'].mean()}\")\n",
    "\n",
    "# calculate median bleu score higher is better\n",
    "print(f\"Median BLEU score for T5: {df['bleu_t5'].median()}\")\n",
    "print(f\"Median BLEU score for Marian: {df['bleu_marian'].median()}\")\n",
    "print(f\"Median BLEU score for MBart: {df['bleu_mbart'].median()}\")\n",
    "\n",
    "# calculate standard deviation lower is better\n",
    "print(f\"Standard deviation for T5: {df['bleu_t5'].std()}\")\n",
    "print(f\"Standard deviation for Marian: {df['bleu_marian'].std()}\")\n",
    "print(f\"Standard deviation for MBart: {df['bleu_mbart'].std()}\")\n",
    "\n",
    "# calculate variance lower is better\n",
    "print(f\"Variance for T5: {df['bleu_t5'].var()}\")\n",
    "print(f\"Variance for Marian: {df['bleu_marian'].var()}\")\n",
    "print(f\"Variance for MBart: {df['bleu_mbart'].var()}\")"
   ],
   "metadata": {
    "collapsed": false,
    "ExecuteTime": {
     "end_time": "2023-11-27T07:17:15.733707Z",
     "start_time": "2023-11-27T07:17:15.712195Z"
    }
   }
  },
  {
   "cell_type": "code",
   "execution_count": 70,
   "outputs": [
    {
     "data": {
      "text/plain": "<Figure size 1000x500 with 1 Axes>",
      "image/png": "[encoded data removed]"
     },
     "metadata": {},
     "output_type": "display_data"
    }
   ],
   "source": [
    "import matplotlib.pyplot as plt\n",
    "\n",
    "plt.figure(figsize=(10, 5))\n",
    "plt.hist(df[\"bleu_t5\"], bins=100, alpha=.6, label=\"T5\")\n",
    "plt.hist(df[\"bleu_marian\"], bins=100, alpha=.6, label=\"Marian\")\n",
    "plt.hist(df[\"bleu_mbart\"], bins=100, alpha=.6, label=\"MBart\")\n",
    "plt.legend()\n",
    "plt.title(\"Histogram of BLEU scores for T5 and Marian and MBart\")\n",
    "plt.xlabel(\"BLEU score\")\n",
    "plt.ylabel(\"Count\")\n",
    "plt.show()"
   ],
   "metadata": {
    "collapsed": false,
    "ExecuteTime": {
     "end_time": "2023-11-27T07:19:13.959179Z",
     "start_time": "2023-11-27T07:19:13.189952Z"
    }
   }
  },
  {
   "cell_type": "code",
   "execution_count": null,
   "outputs": [],
   "source": [],
   "metadata": {
    "collapsed": false
   }
  }
 ]
}
